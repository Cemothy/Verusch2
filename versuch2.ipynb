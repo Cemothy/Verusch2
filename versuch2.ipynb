{
 "cells": [
  {
   "cell_type": "code",
   "execution_count": 3,
   "metadata": {},
   "outputs": [
    {
     "ename": "ModuleNotFoundError",
     "evalue": "No module named 'cv2'",
     "output_type": "error",
     "traceback": [
      "\u001b[1;31m---------------------------------------------------------------------------\u001b[0m",
      "\u001b[1;31mModuleNotFoundError\u001b[0m                       Traceback (most recent call last)",
      "Cell \u001b[1;32mIn[3], line 5\u001b[0m\n\u001b[0;32m      1\u001b[0m \u001b[39mimport\u001b[39;00m \u001b[39msys\u001b[39;00m\n\u001b[0;32m      3\u001b[0m sys\u001b[39m.\u001b[39mpath\u001b[39m.\u001b[39mappend(\u001b[39m'\u001b[39m\u001b[39m/users/robin/appdata/local/programs/python/python39/lib/site-packages\u001b[39m\u001b[39m'\u001b[39m)\n\u001b[1;32m----> 5\u001b[0m \u001b[39mimport\u001b[39;00m \u001b[39mcv2\u001b[39;00m\n\u001b[0;32m      6\u001b[0m \u001b[39mimport\u001b[39;00m \u001b[39mnumpy\u001b[39;00m \u001b[39mas\u001b[39;00m \u001b[39mnp\u001b[39;00m\n\u001b[0;32m      7\u001b[0m \u001b[39mimport\u001b[39;00m \u001b[39mmatplotlib\u001b[39;00m\u001b[39m.\u001b[39;00m\u001b[39mpyplot\u001b[39;00m \u001b[39mas\u001b[39;00m \u001b[39mplt\u001b[39;00m\n",
      "\u001b[1;31mModuleNotFoundError\u001b[0m: No module named 'cv2'"
     ]
    }
   ],
   "source": [
    "import sys\n",
    "\n",
    "#sys.path.append('/users/robin/appdata/local/programs/python/python39/lib/site-packages')\n",
    "\n",
    "import cv2\n",
    "import numpy as np\n",
    "import matplotlib.pyplot as plt"
   ]
  },
  {
   "attachments": {},
   "cell_type": "markdown",
   "metadata": {},
   "source": []
  },
  {
   "attachments": {},
   "cell_type": "markdown",
   "metadata": {
    "slideshow": {
     "slide_type": "notes"
    }
   },
   "source": [
    "# Einlesen des Grauwertkeiles\n",
    "Schreiben Sie eine Routine, die das Bild einliest (Befehl: pyopencv.imread()) und die\n",
    "einzelnen Grauwertstufen als Unterbilder aus dem Originalbild ausliest. Schauen Sie sich\n",
    "dazu nochmals das Thema Indizierung und Index Slicing aus der Python-Einführung\n",
    "an."
   ]
  },
  {
   "cell_type": "code",
   "execution_count": null,
   "metadata": {},
   "outputs": [],
   "source": [
    "\n",
    "bild = cv2.imread('./Messungen/grauwertkeil.png', cv2.IMREAD_GRAYSCALE)\n",
    "#cv2.imshow('image', bild)\n",
    "\n",
    "\n",
    "graustufen = []\n",
    "\n",
    "graustufen.append(bild[20:460, 10:90])   #100\n",
    "graustufen.append(bild[20:460 ,110:230]) #134 \n",
    "graustufen.append(bild[20:460 ,250:370]) #133\n",
    "graustufen.append(bild[20:460 ,390:510]) #132\n",
    "graustufen.append(bild[20:460 ,520:620]) #113\n",
    "\n"
   ]
  },
  {
   "attachments": {},
   "cell_type": "markdown",
   "metadata": {},
   "source": [
    "Bestimmen Sie für jede Stufe den Mittelwert und die Standardabweichung der Grauwerte und tragen Sie diese in eine Tabelle ein. Die zugehörigen Befehle finden sich\n",
    "ebenfalls in der Python-Einführung."
   ]
  },
  {
   "cell_type": "code",
   "execution_count": null,
   "metadata": {},
   "outputs": [
    {
     "name": "stdout",
     "output_type": "stream",
     "text": [
      "Mittelwerte: [64.98590909090909, 102.41204545454545, 148.65075757575758, 196.47823863636364, 246.70654545454545]\n",
      "Std: [4.5946207768046134, 2.955187846830569, 3.0716567489963342, 3.4391875917922152, 6.558070868834916]\n"
     ]
    }
   ],
   "source": [
    "graustufen_mean = []\n",
    "for i in np.arange(len(graustufen)):\n",
    "    graustufen_mean.append(np.mean(graustufen[i]))\n",
    "\n",
    "graustufen_std = []\n",
    "for i in np.arange(len(graustufen)):\n",
    "    graustufen_std.append(np.std(graustufen[i]))\n",
    "\n",
    "print(f\"Mittelwerte: {graustufen_mean}\")\n",
    "print(f\"Std: {graustufen_std}\")"
   ]
  },
  {
   "attachments": {},
   "cell_type": "markdown",
   "metadata": {},
   "source": [
    "# Dunkelbild\n",
    "\n",
    "Schreiben Sie eine Routine, die die 10 Bilder einliest, in double umwandelt, die Farbbilder\n",
    "in Grauwertbilder umrechnet und ihren pixelweisen Mittelwert berechnet. Sie erhalten\n",
    "also nicht einen einzigen Mittelwert wie in Aufgabe 1, sondern ein ganzes Bild von\n",
    "Mittelwerten in derselben Größe wie die Einzelaufnahmen. Auf diese Weise wird\n",
    "das thermische Ausleserauschen eliminiert, es bleibt nur noch der Offset bzw. der\n",
    "Dunkelstrom jedes Pixels übrig. Das Mittelwertbild ist das Dunkelbild für die von"
   ]
  },
  {
   "cell_type": "code",
   "execution_count": null,
   "metadata": {},
   "outputs": [
    {
     "ename": "NameError",
     "evalue": "name 'np' is not defined",
     "output_type": "error",
     "traceback": [
      "\u001b[1;31m---------------------------------------------------------------------------\u001b[0m",
      "\u001b[1;31mNameError\u001b[0m                                 Traceback (most recent call last)",
      "Cell \u001b[1;32mIn[1], line 3\u001b[0m\n\u001b[0;32m      1\u001b[0m dunkelbild \u001b[39m=\u001b[39m []\n\u001b[1;32m----> 3\u001b[0m \u001b[39mfor\u001b[39;00m i \u001b[39min\u001b[39;00m np\u001b[39m.\u001b[39marange(\u001b[39m2\u001b[39m,\u001b[39m11\u001b[39m):\n\u001b[0;32m      4\u001b[0m     dunkelbild\u001b[39m.\u001b[39mappend(cv2\u001b[39m.\u001b[39mimread(\u001b[39mf\u001b[39m\u001b[39m\"\u001b[39m\u001b[39m./Messungen/schwarzBild\u001b[39m\u001b[39m{\u001b[39;00mi\u001b[39m}\u001b[39;00m\u001b[39m.png\u001b[39m\u001b[39m\"\u001b[39m, cv2\u001b[39m.\u001b[39mIMREAD_GRAYSCALE))\n\u001b[0;32m      6\u001b[0m dunkelbild \u001b[39m=\u001b[39m np\u001b[39m.\u001b[39marray(dunkelbild)\n",
      "\u001b[1;31mNameError\u001b[0m: name 'np' is not defined"
     ]
    }
   ],
   "source": [
    "dunkelbild = []\n",
    "\n",
    "for i in np.arange(2,11):\n",
    "    dunkelbild.append(cv2.imread(f\"./Messungen/schwarzBild{i}.png\", cv2.IMREAD_GRAYSCALE))\n",
    "\n",
    "dunkelbild = np.array(dunkelbild)\n",
    "dunkelbild_mean = np.mean(dunkelbild)\n",
    "dunkelbild_contrast = cv2.convertScaleAbs(dunkelbild_mean, alpha=1.5, beta=0)\n",
    "\n",
    "cv2.imwrite(\"Dunkelbild_contrast.png\", dunkelbild_contrast)\n",
    "\n",
    "cv2.imshow(\"Kontrastmaximiertes Dunkelbild\", dunkelbild_contrast)\n",
    "cv2.waitKey(0)\n",
    "cv2.destroyAllWindows()\n",
    "\n",
    "\n"
   ]
  },
  {
   "attachments": {},
   "cell_type": "markdown",
   "metadata": {},
   "source": [
    "# 3 Weißbild\n",
    "Nehmen Sie ein leeres Blatt Papier in der gleichen Entfernung wie das Testbild auf.\n",
    "Achten Sie darauf, die Belichtung auf 30-50% der Hellsättigung einzustellen. Wichtig\n",
    "ist auch, dass die Helligkeit des Blattes so gleichmäßig wie möglich ist, also keine\n",
    "Schatten oder unterschiedlich helle Beleuchtung. Machen Sie auch hier 10 Aufnahmen\n",
    "zur Elimination des thermischen Rauschens."
   ]
  },
  {
   "cell_type": "code",
   "execution_count": null,
   "metadata": {},
   "outputs": [
    {
     "data": {
      "text/plain": [
       "True"
      ]
     },
     "execution_count": 33,
     "metadata": {},
     "output_type": "execute_result"
    }
   ],
   "source": [
    "weißbild = []\n",
    "for i in np.arange(0,10):\n",
    "    weißbild.append(cv2.imread(f\"./Messungen/weissBild{i}.png\", cv2.IMREAD_GRAYSCALE))\n",
    "weißbild = np.array(weißbild)\n",
    "\n",
    "weißbild_mean = np.mean(weißbild, axis=0)\n",
    "weißbild_mean = weißbild_mean - dunkelbild_mean\n",
    "cv2.imwrite(\"weissbild_mean.png\", weißbild_mean)\n",
    "\n",
    "weißbild_contrast = cv2.convertScaleAbs(weißbild_mean, alpha=3.0, beta=0)\n",
    "cv2.imwrite(\"weissbild_contrast.png\", weißbild_contrast)\n",
    "\n",
    "weißbild_contrast = weißbild_contrast / (np.mean(weißbild_mean))\n",
    "weißbild_contrast = np.array(weißbild_contrast)\n",
    "bild = np.array(bild)\n",
    "\n",
    "graustufenkeil = bild - dunkelbild_mean\n",
    "graustufenkeil = graustufenkeil / weißbild_mean\n",
    "\n",
    "\n",
    "cv2.imwrite(\"grauwertkeil_korrigiert.jpg\", graustufenkeil)\n",
    "\n",
    "\n",
    "\n",
    " "
   ]
  },
  {
   "attachments": {},
   "cell_type": "markdown",
   "metadata": {},
   "source": [
    "# 4. Pixelfehler\n",
    "\n",
    "Überprüfen Sie Ihr Dunkelbild auf dem Bildschirm auf stuck und hot pixels und Ihr\n",
    "Weißbild auf dead pixels. Markieren Sie diese im Bild und fügen es in Ihr Notebook\n",
    "ein.\n"
   ]
  },
  {
   "cell_type": "code",
   "execution_count": null,
   "metadata": {},
   "outputs": [
    {
     "name": "stdout",
     "output_type": "stream",
     "text": [
      "stuckpixel: []\n",
      "deadpixle: []\n"
     ]
    }
   ],
   "source": [
    "deadpixels = np.argwhere(weißbild_contrast == 0)\n",
    "stuckpixels = np.argwhere(dunkelbild_contrast == 255)\n",
    "\n",
    "\n",
    "\n",
    "\n",
    "stuckpixel_image = bild.copy()\n",
    "deadpixel_image = bild.copy()\n",
    "\n",
    "for(x, y) in stuckpixels:\n",
    "    stuckpixel_image = cv2.circle(img=stuckpixel_image, center=(x,y), radius=1, color=(255,0,0), thickness=10)\n",
    "cv2.imwrite(\"stuckpixel_image.png\", stuckpixel_image)\n",
    "\n",
    "for(x,y) in deadpixels:\n",
    "    deadpixel_image = cv2.circle(img = stuckpixel_image, center=(x,y), radius = 1, color=(0,0,255), thickness=10)\n",
    "cv2.imwrite(\"deadpixel_image.png\", deadpixel_image)\n",
    "\n",
    "cv2.imshow(\"stuckpixel\", stuckpixel_image)\n",
    "cv2.waitKey(0)\n",
    "cv2.destroyAllWindows()\n",
    "\n",
    "cv2.imshow(\"deadpixel\", deadpixel_image)\n",
    "cv2.waitKey(0)\n",
    "cv2.destroyAllWindows()\n",
    "\n",
    "print(f\"stuckpixel: {stuckpixels}\")\n",
    "print(f\"deadpixle: {deadpixels}\")\n"
   ]
  },
  {
   "attachments": {},
   "cell_type": "markdown",
   "metadata": {},
   "source": [
    "Korrigieren Sie mithilfe Ihres Programms aus Aufgabe 3 das Bild des Grauwertkeils\n",
    "aus Aufgabe 1, speichern Sie es ab und bauen Sie es in Ihr Notebook ein."
   ]
  },
  {
   "cell_type": "code",
   "execution_count": null,
   "metadata": {},
   "outputs": [],
   "source": [
    "bild_korrigiert = bild\n",
    "\n",
    "for pixel in deadpixels:\n",
    "    y,x = pixel\n",
    "    if x == 0:\n",
    "        bild_korrigiert[y,x] = bild[y, x+1]\n",
    "    elif x == bild.shape[1]-1:\n",
    "        bild_korrigiert[y,x] = bild[y, x-1]\n",
    "    else:\n",
    "        bild_korrigiert[y,x] = bild[y, x-1]\n",
    "\n",
    "\n",
    "for pixel in stuckpixels:\n",
    "    y,x = pixel\n",
    "    if x == 0:\n",
    "        bild_korrigiert[y,x] = bild[y, x+1]\n",
    "    elif x == bild.shape[1]-1:\n",
    "        bild_korrigiert[y,x] = bild[y, x-1]\n",
    "    else:\n",
    "        bild_korrigiert[y,x] = bild[y, x-1]\n",
    "\n",
    "cv2.imwrite(\"bild_korrigiert.png\", bild_korrigiert)\n",
    "cv2.imshow(\"bild_korrigiert\", bild_korrigiert)\n",
    "cv2.waitKey(0)\n",
    "cv2.destroyAllWindows()\n",
    "\n",
    "\n",
    "\n"
   ]
  }
 ],
 "metadata": {
  "kernelspec": {
   "display_name": "Python 3",
   "language": "python",
   "name": "python3"
  },
  "language_info": {
   "codemirror_mode": {
    "name": "ipython",
    "version": 3
   },
   "file_extension": ".py",
   "mimetype": "text/x-python",
   "name": "python",
   "nbconvert_exporter": "python",
   "pygments_lexer": "ipython3",
   "version": "3.9.13"
  },
  "orig_nbformat": 4
 },
 "nbformat": 4,
 "nbformat_minor": 2
}
